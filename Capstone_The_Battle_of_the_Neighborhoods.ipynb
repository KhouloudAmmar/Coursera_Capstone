{
  "nbformat": 4,
  "nbformat_minor": 0,
  "metadata": {
    "colab": {
      "name": "Capstone_The-Battle-of-the-Neighborhoods.ipynb",
      "provenance": []
    },
    "kernelspec": {
      "name": "python3",
      "display_name": "Python 3"
    }
  },
  "cells": [
    {
      "cell_type": "markdown",
      "metadata": {
        "id": "6_MOPxVBu-Lm"
      },
      "source": [
        "# Capstone Project - The Battle of the Neighborhoods (Week 1)\r\n",
        "### Applied Data Science Capstone by IBM/Coursera\r\n"
      ]
    },
    {
      "cell_type": "markdown",
      "metadata": {
        "id": "LWA04SGLvXlT"
      },
      "source": [
        "## Table of contents\r\n",
        "\r\n",
        "* Introduction: Business Problem\r\n",
        "* Data\r\n",
        "* Data Descrption"
      ]
    },
    {
      "cell_type": "markdown",
      "metadata": {
        "id": "MIOiLGEjwD4r"
      },
      "source": [
        "## Introduction: Business Problem <a name=\"introduction\"></a>"
      ]
    },
    {
      "cell_type": "markdown",
      "metadata": {
        "id": "eoW_MJ91zxw3"
      },
      "source": [
        "In this project we will try to find an optimal location for a restaurant. Specifically, this report will be targeted to stakeholders interested in opening a restaurant in **Toronto**, Canada.\r\n",
        "\r\n",
        "Since there are lots of restaurants in Toroonto we will try to detect **locations that are not already crowded with restaurants**.\r\n",
        "\r\n",
        "We will use our data science powers to generate a few most promissing neighborhoods based on this criteria. Advantages of each area will then be clearly expressed so that best possible final location can be chosen by stakeholders.\r\n"
      ]
    },
    {
      "cell_type": "markdown",
      "metadata": {
        "id": "gGvutHBv0L5_"
      },
      "source": [
        "## Data\r\n"
      ]
    },
    {
      "cell_type": "markdown",
      "metadata": {
        "id": "T39GOVBs0QQd"
      },
      "source": [
        "Based on definition of our problem, factors that will influence our decission are:\r\n",
        "* number of existing restaurants in the neighborhood (any type of restaurant)\r\n",
        "\r\n",
        "\r\n",
        "\r\n",
        "We decided to use regularly spaced grid of locations, centered around city center, to define our neighborhoods.\r\n",
        "\r\n",
        "Following data sources will be needed to extract/generate the required information:\r\n",
        "* centers of candidate areas will be generated algorithmically and approximate addresses of centers of those areas will be obtained using **Google Maps API reverse geocoding**\r\n",
        "* number of restaurants and their type and location in every neighborhood will be obtained using **Foursquare API**\r\n"
      ]
    },
    {
      "cell_type": "markdown",
      "metadata": {
        "id": "se_geKrb7Dke"
      },
      "source": [
        "## Data Description:"
      ]
    },
    {
      "cell_type": "markdown",
      "metadata": {
        "id": "hOrswyaA66Ep"
      },
      "source": [
        "\r\n",
        "Data Link: https://en.wikipedia.org/wiki/List_of_postal_codes_of_Canada:_M\r\n",
        "\r\n",
        "Will use Scarborough dataset which we scrapped from wikipedia on Week 3. Dataset consisting of latitude and longitude, zip codes.\r\n",
        "\r\n",
        "**Foursquare API Data**:\r\n",
        "We will need data about different venues in different neighborhoods of that specific borough. In order to gain that information we will use \"Foursquare\" locational information. Foursquare is a location data provider with information about all manner of venues and events within an area of interest. Such information includes venue names, locations, menus and even photos. As such, the foursquare location platform will be used as the sole data source since all the stated required information can be obtained through the API.\r\n",
        "\r\n",
        "After finding the list of neighborhoods, we then connect to the Foursquare API to gather information about venues inside each and every neighborhood. For each neighborhood, we have chosen the radius to be 100 meter.\r\n",
        "\r\n",
        "The data retrieved from Foursquare contained information of venues within a specified distance of the longitude and latitude of the postcodes. The information obtained per venue as follows:\r\n",
        "\r\n",
        "1. Neighborhood\r\n",
        "2. Neighborhood Latitude\r\n",
        "3. Neighborhood Longitude\r\n",
        "4. Venue\r\n",
        "5. Name of the venue e.g. the name of a store or restaurant\r\n",
        "6. Venue Latitude\r\n",
        "7. Venue Longitude\r\n",
        "8. Venue Category\r\n"
      ]
    },
    {
      "cell_type": "code",
      "metadata": {
        "id": "Y7LZCJf5u8mg"
      },
      "source": [
        ""
      ],
      "execution_count": null,
      "outputs": []
    }
  ]
}