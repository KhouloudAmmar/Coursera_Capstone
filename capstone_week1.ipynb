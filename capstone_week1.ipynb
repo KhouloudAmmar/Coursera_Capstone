{
  "nbformat": 4,
  "nbformat_minor": 0,
  "metadata": {
    "colab": {
      "name": "capstone_week1.ipynb",
      "provenance": []
    },
    "kernelspec": {
      "name": "python3",
      "display_name": "Python 3"
    }
  },
  "cells": [
    {
      "cell_type": "markdown",
      "metadata": {
        "id": "dtzf7oyC95vH"
      },
      "source": [
        "**       This notebook will be mainly used for the  IBM capstone project**\r\n",
        "\r\n",
        "------\r\n",
        "\r\n"
      ]
    },
    {
      "cell_type": "code",
      "metadata": {
        "id": "Pb6xBO-Q-YUQ"
      },
      "source": [
        "import pandas as pd \r\n",
        "import numpy  as np"
      ],
      "execution_count": 2,
      "outputs": []
    },
    {
      "cell_type": "code",
      "metadata": {
        "colab": {
          "base_uri": "https://localhost:8080/"
        },
        "id": "_BmhRhPX-ryp",
        "outputId": "176fc9fe-db88-48d1-f39a-7ec16becd785"
      },
      "source": [
        "print(\"Hello Capstone Project Course!\")"
      ],
      "execution_count": 3,
      "outputs": [
        {
          "output_type": "stream",
          "text": [
            "Hello Capstone Project Course!\n"
          ],
          "name": "stdout"
        }
      ]
    },
    {
      "cell_type": "markdown",
      "metadata": {
        "id": "ZhskYRAoBN16"
      },
      "source": [
        ""
      ]
    }
  ]
}